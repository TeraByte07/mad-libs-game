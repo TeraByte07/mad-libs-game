{
 "cells": [
  {
   "cell_type": "markdown",
   "metadata": {},
   "source": [
    "# MAD LIBS GAME"
   ]
  },
  {
   "cell_type": "code",
   "execution_count": 6,
   "metadata": {},
   "outputs": [
    {
     "name": "stdout",
     "output_type": "stream",
     "text": [
      "\t\t\t\t Musa Bakare\n",
      "Your name is Bakare\n",
      "Your surname is Musa\n",
      "Your age is 22\n",
      "Your date of birth is 02/11/99\n",
      "State of origin is Ogun\n",
      "A citizen of Nigeria\n",
      "You are from the Yoruba tribe in Nigeria\n"
     ]
    }
   ],
   "source": [
    "name = input('Enter your name')\n",
    "surname = input('Enter your surname')\n",
    "age = input('Enter your age')\n",
    "dob = input('Enter date of birth')\n",
    "state = input('Enter your state')\n",
    "country = input('Enter country')\n",
    "tribe = input('enter a tribe')\n",
    "\n",
    "p1 = 'Your name is ' +name\n",
    "p2 = 'Your surname is ' +surname\n",
    "p3 = 'Your age is '+age\n",
    "p4 = 'Your date of birth is ' +dob\n",
    "p5 = 'State of origin is ' +state\n",
    "p6 = 'A citizen of ' +country\n",
    "p7 = 'You are from the ' +tribe+ ' tribe in ' +country\n",
    "print('\\t\\t\\t\\t',surname,name)\n",
    "print(p1)\n",
    "print(p2)\n",
    "print(p3)\n",
    "print(p4)\n",
    "print(p5)\n",
    "print(p6)\n",
    "print(p7)"
   ]
  },
  {
   "cell_type": "code",
   "execution_count": null,
   "metadata": {},
   "outputs": [],
   "source": []
  }
 ],
 "metadata": {
  "interpreter": {
   "hash": "88a8c6c12fd18c9ea31f02c3edde081b1d7b9afc1df3cb9771725749b1e9230f"
  },
  "kernelspec": {
   "display_name": "Python 3",
   "language": "python",
   "name": "python3"
  },
  "language_info": {
   "codemirror_mode": {
    "name": "ipython",
    "version": 3
   },
   "file_extension": ".py",
   "mimetype": "text/x-python",
   "name": "python",
   "nbconvert_exporter": "python",
   "pygments_lexer": "ipython3",
   "version": "3.8.5"
  }
 },
 "nbformat": 4,
 "nbformat_minor": 2
}
